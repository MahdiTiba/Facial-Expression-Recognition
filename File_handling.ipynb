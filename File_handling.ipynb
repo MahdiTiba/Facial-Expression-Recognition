{
 "cells": [
  {
   "cell_type": "code",
   "execution_count": 56,
   "id": "8f8435ea",
   "metadata": {},
   "outputs": [],
   "source": [
    "import shutil\n",
    "import os\n",
    "import random"
   ]
  },
  {
   "cell_type": "markdown",
   "id": "deffdb8d",
   "metadata": {},
   "source": [
    "### Copy Files from source"
   ]
  },
  {
   "cell_type": "code",
   "execution_count": 42,
   "id": "ab04fe74",
   "metadata": {},
   "outputs": [],
   "source": [
    "source = 'W:\\Knowledge Base\\Github\\Sentiment-Analysis\\Human Face Emotions - 4 (KDEF-AKDEF)\\KDEF'\n",
    "destination = 'W:\\Knowledge Base\\Github\\datasets\\Face-Emotions\\KDEF\\Train'"
   ]
  },
  {
   "cell_type": "code",
   "execution_count": 51,
   "id": "57da0fe9",
   "metadata": {},
   "outputs": [],
   "source": [
    "classes = {\n",
    "    'AF': 'Afraid',\n",
    "    'AN': 'Angry',\n",
    "    'DI': 'Disgusted',\n",
    "    'HA': 'Happy',\n",
    "    'NE': 'Neutral',\n",
    "    'SA': 'Sad',\n",
    "    'SU': 'Surprised',\n",
    "}\n",
    "\n",
    "extention = '.JPG'"
   ]
  },
  {
   "cell_type": "code",
   "execution_count": 55,
   "id": "09577a6e",
   "metadata": {},
   "outputs": [
    {
     "name": "stdout",
     "output_type": "stream",
     "text": [
      "\"AF01\" done.\n",
      "\"AF02\" done.\n",
      "\"AF03\" done.\n",
      "\"AF04\" done.\n",
      "\"AF05\" done.\n",
      "\"AF06\" done.\n",
      "\"AF07\" done.\n",
      "\"AF08\" done.\n",
      "\"AF09\" done.\n",
      "\"AF10\" done.\n",
      "\"AF11\" done.\n",
      "\"AF12\" done.\n",
      "\"AF13\" done.\n",
      "\"AF14\" done.\n",
      "\"AF15\" done.\n",
      "\"AF16\" done.\n",
      "\"AF17\" done.\n",
      "\"AF18\" done.\n",
      "\"AF19\" done.\n",
      "\"AF20\" done.\n",
      "\"AF21\" done.\n",
      "\"AF22\" done.\n",
      "\"AF23\" done.\n",
      "\"AF24\" done.\n",
      "\"AF25\" done.\n",
      "\"AF26\" done.\n",
      "\"AF27\" done.\n",
      "\"AF28\" done.\n",
      "\"AF29\" done.\n",
      "\"AF30\" done.\n",
      "\"AF31\" done.\n",
      "\"AF32\" done.\n",
      "\"AF33\" done.\n",
      "\"AF34\" done.\n",
      "\"AF35\" done.\n",
      "\"AM01\" done.\n",
      "\"AM02\" done.\n",
      "\"AM03\" done.\n",
      "\"AM04\" done.\n",
      "\"AM05\" done.\n",
      "\"AM06\" done.\n",
      "\"AM07\" done.\n",
      "\"AM08\" done.\n",
      "\"AM09\" done.\n",
      "\"AM10\" done.\n",
      "\"AM11\" done.\n",
      "\"AM12\" done.\n",
      "\"AM13\" done.\n",
      "\"AM14\" done.\n",
      "\"AM15\" done.\n",
      "\"AM16\" done.\n",
      "\"AM17\" done.\n",
      "\"AM18\" done.\n",
      "\"AM19\" done.\n",
      "\"AM20\" done.\n",
      "\"AM21\" done.\n",
      "\"AM22\" done.\n",
      "\"AM23\" done.\n",
      "\"AM24\" done.\n",
      "\"AM25\" done.\n",
      "\"AM26\" done.\n",
      "\"AM27\" done.\n",
      "\"AM28\" done.\n",
      "\"AM29\" done.\n",
      "\"AM30\" done.\n",
      "\"AM31\" done.\n",
      "\"AM32\" done.\n",
      "\"AM33\" done.\n",
      "\"AM34\" done.\n",
      "\"AM35\" done.\n",
      "\"BF01\" done.\n",
      "\"BF02\" done.\n",
      "\"BF03\" done.\n",
      "\"BF04\" done.\n",
      "\"BF05\" done.\n",
      "\"BF06\" done.\n",
      "\"BF07\" done.\n",
      "\"BF08\" done.\n",
      "\"BF09\" done.\n",
      "\"BF10\" done.\n",
      "\"BF11\" done.\n",
      "\"BF12\" done.\n",
      "\"BF13\" done.\n",
      "\"BF14\" done.\n",
      "\"BF15\" done.\n",
      "\"BF16\" done.\n",
      "\"BF17\" done.\n",
      "\"BF18\" done.\n",
      "\"BF19\" done.\n",
      "\"BF20\" done.\n",
      "\"BF21\" done.\n",
      "\"BF22\" done.\n",
      "\"BF23\" done.\n",
      "\"BF24\" done.\n",
      "\"BF25\" done.\n",
      "\"BF26\" done.\n",
      "\"BF27\" done.\n",
      "\"BF28\" done.\n",
      "\"BF29\" done.\n",
      "\"BF30\" done.\n",
      "\"BF31\" done.\n",
      "\"BF32\" done.\n",
      "\"BF33\" done.\n",
      "\"BF34\" done.\n",
      "\"BF35\" done.\n",
      "\"BM01\" done.\n",
      "\"BM02\" done.\n",
      "\"BM03\" done.\n",
      "\"BM04\" done.\n",
      "\"BM05\" done.\n",
      "\"BM06\" done.\n",
      "\"BM07\" done.\n",
      "\"BM08\" done.\n",
      "\"BM09\" done.\n",
      "\"BM10\" done.\n",
      "\"BM11\" done.\n",
      "\"BM12\" done.\n",
      "\"BM13\" done.\n",
      "\"BM14\" done.\n",
      "\"BM15\" done.\n",
      "\"BM16\" done.\n",
      "\"BM17\" done.\n",
      "\"BM18\" done.\n",
      "\"BM19\" done.\n",
      "\"BM20\" done.\n",
      "\"BM21\" done.\n",
      "\"BM22\" done.\n",
      "\"BM23\" done.\n",
      "\"BM24\" done.\n",
      "\"BM25\" done.\n",
      "\"BM26\" done.\n",
      "\"BM27\" done.\n",
      "\"BM28\" done.\n",
      "\"BM29\" done.\n",
      "\"BM30\" done.\n",
      "\"BM31\" done.\n",
      "\"BM32\" done.\n",
      "\"BM33\" done.\n",
      "\"BM34\" done.\n",
      "\"BM35\" done.\n"
     ]
    }
   ],
   "source": [
    "for file in os.listdir(source):\n",
    "    \n",
    "    images_path = os.path.join(source, file)\n",
    "    \n",
    "    for image_name in os.listdir(images_path):\n",
    "        \n",
    "        if image_name.endswith(extention):\n",
    "            \n",
    "            image_path = os.path.join(images_path, image_name)\n",
    "            destination_path = os.path.join(destination, classes[image_name[4:6]], image_name)\n",
    "            shutil.copyfile(image_path, destination_path)\n",
    "        \n",
    "    print(f'\"{file}\" done.')"
   ]
  },
  {
   "cell_type": "markdown",
   "id": "9bc9e49b",
   "metadata": {},
   "source": [
    "### Move Files from Train to Test file"
   ]
  },
  {
   "cell_type": "code",
   "execution_count": 62,
   "id": "f42b7b7e",
   "metadata": {},
   "outputs": [],
   "source": [
    "train_path = 'W:\\Knowledge Base\\Github\\datasets\\Face-Emotions\\KDEF\\Train'\n",
    "test_path = 'W:\\Knowledge Base\\Github\\datasets\\Face-Emotions\\KDEF\\Test'"
   ]
  },
  {
   "cell_type": "code",
   "execution_count": 63,
   "id": "df7668b4",
   "metadata": {},
   "outputs": [],
   "source": [
    "portion = 0.1"
   ]
  },
  {
   "cell_type": "code",
   "execution_count": 71,
   "id": "df16511b",
   "metadata": {},
   "outputs": [
    {
     "data": {
      "text/plain": [
       "70"
      ]
     },
     "execution_count": 71,
     "metadata": {},
     "output_type": "execute_result"
    }
   ],
   "source": [
    "int(70.10000000000001)"
   ]
  },
  {
   "cell_type": "code",
   "execution_count": 73,
   "id": "2f007073",
   "metadata": {},
   "outputs": [
    {
     "name": "stdout",
     "output_type": "stream",
     "text": [
      "70 image moved from \"train/Afraid\" to \"test/Afraid\".\n",
      "70 image moved from \"train/Angry\" to \"test/Angry\".\n",
      "70 image moved from \"train/Disgusted\" to \"test/Disgusted\".\n",
      "70 image moved from \"train/Happy\" to \"test/Happy\".\n",
      "70 image moved from \"train/Neutral\" to \"test/Neutral\".\n",
      "69 image moved from \"train/Sad\" to \"test/Sad\".\n",
      "69 image moved from \"train/Surprised\" to \"test/Surprised\".\n"
     ]
    }
   ],
   "source": [
    "for file in os.listdir(train_path):\n",
    "    \n",
    "    count = (len(os.listdir(os.path.join(train_path, file)))) * portion\n",
    "    count = int(count)\n",
    "    random_image_list = random.sample(os.listdir(os.path.join(train_path, file)), count)\n",
    "    \n",
    "    for image_path in random_image_list:\n",
    "        \n",
    "        shutil.move(os.path.join(train_path, file, image_path), os.path.join(test_path, file, image_path))\n",
    "        \n",
    "    print(f'{count} image moved from \"train/{file}\" to \"test/{file}\".')"
   ]
  }
 ],
 "metadata": {
  "kernelspec": {
   "display_name": "Python 3 (ipykernel)",
   "language": "python",
   "name": "python3"
  },
  "language_info": {
   "codemirror_mode": {
    "name": "ipython",
    "version": 3
   },
   "file_extension": ".py",
   "mimetype": "text/x-python",
   "name": "python",
   "nbconvert_exporter": "python",
   "pygments_lexer": "ipython3",
   "version": "3.9.19"
  }
 },
 "nbformat": 4,
 "nbformat_minor": 5
}
